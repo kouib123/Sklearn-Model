{
  "nbformat": 4,
  "nbformat_minor": 0,
  "metadata": {
    "colab": {
      "provenance": [],
      "authorship_tag": "ABX9TyM9QbAILSzMtPuQYXf3qQ1b",
      "include_colab_link": true
    },
    "kernelspec": {
      "name": "python3",
      "display_name": "Python 3"
    },
    "language_info": {
      "name": "python"
    }
  },
  "cells": [
    {
      "cell_type": "markdown",
      "metadata": {
        "id": "view-in-github",
        "colab_type": "text"
      },
      "source": [
        "<a href=\"https://colab.research.google.com/github/kouib123/Sklearn-Model/blob/main/Applied_Random_Forest_Algorithm.ipynb\" target=\"_parent\"><img src=\"https://colab.research.google.com/assets/colab-badge.svg\" alt=\"Open In Colab\"/></a>"
      ]
    },
    {
      "cell_type": "markdown",
      "source": [
        "#Applying the Random Forest Algorithm to Image Classification"
      ],
      "metadata": {
        "id": "uvSa78q87gw1"
      }
    },
    {
      "cell_type": "code",
      "source": [
        "from csv import reader\n",
        "from numpy import array, float32, int32, newaxis\n",
        "from cv2 import ml\n",
        "from sklearn import model_selection as ms"
      ],
      "metadata": {
        "id": "_NCpZit_Hs2s"
      },
      "execution_count": 27,
      "outputs": []
    },
    {
      "cell_type": "code",
      "execution_count": 34,
      "metadata": {
        "id": "q4EKExVq7KTs"
      },
      "outputs": [],
      "source": [
        "# Function to load the dataset\n",
        "\n",
        "def load_csv(filename):\n",
        "    file = open(filename, \"rt\")\n",
        "    lines = reader(file)\n",
        "    dataset = list(lines)\n",
        "    return dataset\n",
        "\n",
        "\n"
      ]
    },
    {
      "cell_type": "code",
      "source": [
        "# Function to convert a string column to float\n",
        "def str_column_to_float(dataset, column):\n",
        "    for row in dataset:\n",
        "        row[column] = float32(row[column].strip())"
      ],
      "metadata": {
        "id": "m0v_3ZLP72S1"
      },
      "execution_count": 35,
      "outputs": []
    },
    {
      "cell_type": "code",
      "source": [
        "# Load the dataset from text file\n",
        "data = load_csv('/content/data_banknote_authentication.txt')"
      ],
      "metadata": {
        "id": "bh4-3j6q75kd"
      },
      "execution_count": 36,
      "outputs": []
    },
    {
      "cell_type": "code",
      "source": [
        "# Convert the dataset string numbers to float\n",
        "for i in range(len(data[0])):\n",
        "    str_column_to_float(data, i)"
      ],
      "metadata": {
        "id": "FxDdqtviByIr"
      },
      "execution_count": 37,
      "outputs": []
    },
    {
      "cell_type": "code",
      "source": [
        "# Convert list to array\n",
        "\n",
        "data = array(data)"
      ],
      "metadata": {
        "id": "dKAv1zkSCbay"
      },
      "execution_count": 38,
      "outputs": []
    },
    {
      "cell_type": "code",
      "source": [
        "# Separate the dataset samples from the ground truth\n",
        "\n",
        "samples = data[:, :4]\n",
        "target = data[:, -1, newaxis].astype(int32)\n",
        ""
      ],
      "metadata": {
        "id": "Tqe0z3B9CZ1s"
      },
      "execution_count": 39,
      "outputs": []
    },
    {
      "cell_type": "code",
      "source": [
        "# Split the data into training and testing sets\n",
        "x_train, x_test, y_train, y_test = ms.train_test_split(samples, target, test_size=0.2, random_state=10)\n",
        "\n"
      ],
      "metadata": {
        "id": "KqQefYzaFLXU"
      },
      "execution_count": 40,
      "outputs": []
    },
    {
      "cell_type": "markdown",
      "source": [
        "The OpenCV library implements the RTrees_create function in the ml module, which will allow us to create an empty decision tree:"
      ],
      "metadata": {
        "id": "56Mn3ecaGR8J"
      }
    },
    {
      "cell_type": "code",
      "source": [
        "# Create an empty decision tree\n",
        "rtree = ml.RTrees_create()"
      ],
      "metadata": {
        "id": "2bbQOyZQGTte"
      },
      "execution_count": 42,
      "outputs": []
    },
    {
      "cell_type": "code",
      "source": [
        "# Train the decision tree\n",
        "rtree.train(x_train, ml.ROW_SAMPLE, y_train)"
      ],
      "metadata": {
        "colab": {
          "base_uri": "https://localhost:8080/"
        },
        "id": "fHzveG4iIasy",
        "outputId": "0b1d9de1-b1c3-4814-c9f4-8af777e34b4c"
      },
      "execution_count": 43,
      "outputs": [
        {
          "output_type": "execute_result",
          "data": {
            "text/plain": [
              "True"
            ]
          },
          "metadata": {},
          "execution_count": 43
        }
      ]
    },
    {
      "cell_type": "code",
      "source": [
        "# Predict the target labels of the testing data\n",
        "_, y_pred = rtree.predict(x_test)\n",
        "print(_, y_pred)\n",
        ""
      ],
      "metadata": {
        "id": "uUiaj0MpIeRC"
      },
      "execution_count": null,
      "outputs": []
    },
    {
      "cell_type": "code",
      "source": [
        "# Compute and print the achieved accuracy\n",
        "accuracy = (sum(y_pred.astype(int32) == y_test) / y_test.size) * 100\n",
        "print('Accuracy:', round(accuracy[0], 2), '%')\n"
      ],
      "metadata": {
        "colab": {
          "base_uri": "https://localhost:8080/"
        },
        "id": "C31AOUQrIfa5",
        "outputId": "0534dbf1-25ad-47db-c480-ca1c7091d239"
      },
      "execution_count": 52,
      "outputs": [
        {
          "output_type": "stream",
          "name": "stdout",
          "text": [
            "Accuracy: 98.55 %\n"
          ]
        }
      ]
    }
  ]
}